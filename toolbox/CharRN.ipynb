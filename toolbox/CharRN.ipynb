{
 "cells": [
  {
   "cell_type": "code",
   "execution_count": 19,
   "metadata": {},
   "outputs": [],
   "source": [
    "import numpy as np\n",
    "from keras.models import Sequential\n",
    "from keras.layers import Dense\n",
    "from keras.layers import Dropout\n",
    "from keras.layers import LSTM\n",
    "from keras.callbacks import ModelCheckpoint\n",
    "from keras.utils import np_utils\n",
    "import sys"
   ]
  },
  {
   "cell_type": "code",
   "execution_count": 5,
   "metadata": {},
   "outputs": [
    {
     "name": "stdout",
     "output_type": "stream",
     "text": [
      "Total Characters 3615903\n",
      "Vocab Size 39\n"
     ]
    }
   ],
   "source": [
    "# https://machinelearningmastery.com/text-generation-lstm-recurrent-neural-networks-python-keras/\n",
    "\n",
    "\n",
    "filename = './corpus/cmudict/cmudict.dict'\n",
    "\n",
    "text = open(filename).read().lower()\n",
    "\n",
    "chars = sorted(list(set(text)))\n",
    "char_to_int = dict((c, i) for i, c in enumerate(chars))\n",
    "\n",
    "n_chars = len(text)\n",
    "vocab_size = len(chars)\n",
    "\n",
    "print('Total Characters', n_chars)\n",
    "print('Vocab Size', vocab_size)\n"
   ]
  },
  {
   "cell_type": "code",
   "execution_count": 8,
   "metadata": {},
   "outputs": [
    {
     "name": "stdout",
     "output_type": "stream",
     "text": [
      "Total Patterns 3615803\n"
     ]
    }
   ],
   "source": [
    "# prepare dataset of input to output pairs\n",
    "seq_length = 100\n",
    "dataX = []\n",
    "dataY = []\n",
    "\n",
    "for i in range(0, n_chars - seq_length, 1):\n",
    "    seq_in = text[i:i + seq_length]\n",
    "    seq_out = text[i + seq_length]\n",
    "    dataX.append([char_to_int[char] for char in seq_in])\n",
    "    dataY.append(char_to_int[seq_out])\n",
    "\n",
    "n_patterns = len(dataX)\n",
    "print('Total Patterns', n_patterns)\n"
   ]
  },
  {
   "cell_type": "code",
   "execution_count": 9,
   "metadata": {},
   "outputs": [],
   "source": [
    "import numpy as np\n",
    "X = np.reshape(dataX, (n_patterns, seq_length, 1))"
   ]
  },
  {
   "cell_type": "code",
   "execution_count": 10,
   "metadata": {},
   "outputs": [],
   "source": [
    "from keras.utils import np_utils\n",
    "X = X / float(vocab_size)\n",
    "y = np_utils.to_categorical(dataY)"
   ]
  },
  {
   "cell_type": "code",
   "execution_count": 12,
   "metadata": {},
   "outputs": [],
   "source": [
    "# Define LSTM\n",
    "model = Sequential()\n",
    "model.add(LSTM(256, input_shape=(X.shape[1], X.shape[2])))\n",
    "model.add(Dropout(0.2))\n",
    "model.add(Dense(y.shape[1], activation='softmax'))\n",
    "model.compile(loss='categorical_crossentropy', optimizer='adam')"
   ]
  },
  {
   "cell_type": "code",
   "execution_count": 14,
   "metadata": {},
   "outputs": [],
   "source": [
    "# define the checkpoint\n",
    "filepath=\"weights-improvement-{epoch:02d}-{loss:.4f}.hdf5\"\n",
    "checkpoint = ModelCheckpoint(filepath, monitor='loss', verbose=1, save_best_only=True, mode='min')\n",
    "callbacks_list = [checkpoint]"
   ]
  },
  {
   "cell_type": "code",
   "execution_count": null,
   "metadata": {},
   "outputs": [
    {
     "name": "stdout",
     "output_type": "stream",
     "text": [
      "Epoch 1/2\n",
      "3615803/3615803 [==============================] - 12780s 4ms/step - loss: 1.5233\n",
      "\n",
      "Epoch 00001: loss improved from inf to 1.52333, saving model to weights-improvement-01-1.5233.hdf5\n",
      "Epoch 2/2\n",
      "3599600/3615803 [============================>.] - ETA: 1:50 - loss: 1.0144"
     ]
    }
   ],
   "source": [
    "model.fit(X, y, epochs=2, batch_size=200, callbacks=callbacks_list)"
   ]
  },
  {
   "cell_type": "code",
   "execution_count": 17,
   "metadata": {},
   "outputs": [
    {
     "name": "stdout",
     "output_type": "stream",
     "text": [
      "Created model and loaded weights from file\n"
     ]
    }
   ],
   "source": [
    "# load weights\n",
    "load_filepath='weights-improvement-02-1.0141.hdf5'\n",
    "model.load_weights(load_filepath)\n",
    "print(\"Created model and loaded weights from file\")"
   ]
  },
  {
   "cell_type": "code",
   "execution_count": 20,
   "metadata": {},
   "outputs": [
    {
     "name": "stdout",
     "output_type": "stream",
     "text": [
      "Seed: ih1 n s k iy2\n",
      "iwo ay1 w ow0\n",
      "iwosaki ay2 w ah0 s aa1 k iy0\n",
      "ixion ih0 k s ay1 ah0 n\n",
      "iyer ay1 er0\n",
      "izagu\n",
      " eh1 v eh0 s\n",
      "ivee eh1 v iy0\n",
      "isel eh1 t ah0 l\n",
      "isen ih1 s ah0 n\n",
      "isen ih1 s ah0 n\n",
      "isen ih1 s ah0 n\n",
      "isen ih1 s ah0 n\n",
      "isen ih1 s ah0 n\n",
      "isen ih1 s ah0 n\n",
      "isen ih1 s ah0 n\n",
      "isen ih1 s ah0 n\n",
      "isen ih1 s ah0 n\n",
      "isen ih1 s ah0 n\n",
      "isen ih1 s ah0 n\n",
      "isen ih1 s ah0 n\n",
      "isen ih1 s ah0 n\n",
      "isen ih1 s ah0 n\n",
      "isen ih1 s ah0 n\n",
      "isen ih1 s ah0 n\n",
      "isen ih1 s ah0 n\n",
      "isen ih1 s ah0 n\n",
      "isen ih1 s ah0 n\n",
      "isen ih1 s ah0 n\n",
      "isen ih1 s ah0 n\n",
      "isen ih1 s ah0 n\n",
      "isen ih1 s ah0 n\n",
      "isen ih1 s ah0 n\n",
      "isen ih1 s ah0 n\n",
      "isen ih1 s ah0 n\n",
      "isen ih1 s ah0 n\n",
      "isen ih1 s ah0 n\n",
      "isen ih1 s ah0 n\n",
      "isen ih1 s ah0 n\n",
      "isen ih1 s ah0 n\n",
      "isen ih1 s ah0 n\n",
      "isen ih1 s ah0 n\n",
      "isen ih1 s ah0 n\n",
      "isen ih1 s ah0 n\n",
      "isen ih1 s ah0 n\n",
      "isen ih1 s ah0 n\n",
      "isen ih1 s ah0 n\n",
      "isen ih1 s ah0 n\n",
      "isen ih1 s ah0 n\n",
      "isen ih1 s ah0 n\n",
      "isen ih1 s ah0 n\n",
      "isen ih1 s ah0 n\n",
      "isen ih1 s ah0 n\n",
      "isen ih1 s ah0 n\n",
      "isen ih1 s ah0 n\n",
      "isen ih1 s ah0 n\n",
      "isen ih1 s ah0 n\n",
      "isen ih1 s ah0 n\n",
      "isen ih1 s ah0 n\n",
      "isen ih1 s ah0 n\n",
      "isen ih1 s ah0 n\n",
      "isen ih1 s ah0 n\n",
      "isen ih1 s ah0 n\n",
      "isen ih1 s ah0 n\n",
      "isen ih1 s ah0 n\n",
      "iseDone\n"
     ]
    }
   ],
   "source": [
    "# Generate text\n",
    "\n",
    "int_to_char = dict((i, c) for i, c in enumerate(chars))\n",
    "\n",
    "# Pick a random seed\n",
    "start = np.random.randint(0, len(dataX) - 1)\n",
    "pattern = dataX[start]\n",
    "print('Seed:', ''.join([int_to_char[value] for value in pattern]))\n",
    "\n",
    "#generate characterss\n",
    "for i in range(1000):\n",
    "    x = np.reshape(pattern, (1, len(pattern), 1))\n",
    "    x = x / float(vocab_size)\n",
    "    prediction = model.predict(x, verbose=0)\n",
    "    index = np.argmax(prediction)\n",
    "    result = int_to_char[index]\n",
    "    seq_in = [int_to_char[value] for value in pattern]\n",
    "    sys.stdout.write(result)\n",
    "    pattern.append(index)\n",
    "    pattern = pattern[1:len(pattern)]\n",
    "    \n",
    "print('Done')\n",
    "    "
   ]
  },
  {
   "cell_type": "code",
   "execution_count": null,
   "metadata": {},
   "outputs": [],
   "source": []
  }
 ],
 "metadata": {
  "kernelspec": {
   "display_name": "Python 3",
   "language": "python",
   "name": "python3"
  },
  "language_info": {
   "codemirror_mode": {
    "name": "ipython",
    "version": 3
   },
   "file_extension": ".py",
   "mimetype": "text/x-python",
   "name": "python",
   "nbconvert_exporter": "python",
   "pygments_lexer": "ipython3",
   "version": "3.6.5"
  }
 },
 "nbformat": 4,
 "nbformat_minor": 2
}
